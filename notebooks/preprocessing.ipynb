{
 "cells": [
  {
   "cell_type": "markdown",
   "id": "377f3f16-faff-4077-a616-efea01c46bba",
   "metadata": {},
   "source": [
    "## Imports"
   ]
  },
  {
   "cell_type": "code",
   "execution_count": 87,
   "id": "49057300-1d06-4302-978e-62529839ab99",
   "metadata": {},
   "outputs": [],
   "source": [
    "import numpy as np"
   ]
  },
  {
   "cell_type": "markdown",
   "id": "db5310ad-e63f-441d-b4da-527700fadc9e",
   "metadata": {},
   "source": [
    "## Load CSV Data"
   ]
  },
  {
   "cell_type": "code",
   "execution_count": 2,
   "id": "c1da5f35-6dc9-4cb7-a7c8-2c5ab69094a5",
   "metadata": {},
   "outputs": [],
   "source": [
    "def load_csv_data(filepath):\n",
    "    data_df = pd.read_csv(filepath)\n",
    "    return data_df\n",
    "\n",
    "filepath = \"../data/aws_1hour.csv\"\n",
    "data_df = load_csv_data(filepath)"
   ]
  },
  {
   "cell_type": "markdown",
   "id": "edfbed1d-396b-4816-9153-b27384b56bd7",
   "metadata": {},
   "source": [
    "## Parse Data"
   ]
  },
  {
   "cell_type": "code",
   "execution_count": 59,
   "id": "578693b8-5e7d-4add-9647-94372fcae4f4",
   "metadata": {},
   "outputs": [
    {
     "data": {
      "text/html": [
       "<div>\n",
       "<style scoped>\n",
       "    .dataframe tbody tr th:only-of-type {\n",
       "        vertical-align: middle;\n",
       "    }\n",
       "\n",
       "    .dataframe tbody tr th {\n",
       "        vertical-align: top;\n",
       "    }\n",
       "\n",
       "    .dataframe thead th {\n",
       "        text-align: right;\n",
       "    }\n",
       "</style>\n",
       "<table border=\"1\" class=\"dataframe\">\n",
       "  <thead>\n",
       "    <tr style=\"text-align: right;\">\n",
       "      <th></th>\n",
       "      <th>air_pressure</th>\n",
       "      <th>air_temperature</th>\n",
       "      <th>relative_humidity</th>\n",
       "      <th>precipitation</th>\n",
       "    </tr>\n",
       "    <tr>\n",
       "      <th>timestamp</th>\n",
       "      <th></th>\n",
       "      <th></th>\n",
       "      <th></th>\n",
       "      <th></th>\n",
       "    </tr>\n",
       "  </thead>\n",
       "  <tbody>\n",
       "    <tr>\n",
       "      <th>2003-12-01 00:00:00</th>\n",
       "      <td>987.84</td>\n",
       "      <td>8.32</td>\n",
       "      <td>96.37</td>\n",
       "      <td>1.20</td>\n",
       "    </tr>\n",
       "    <tr>\n",
       "      <th>2003-12-01 01:00:00</th>\n",
       "      <td>987.31</td>\n",
       "      <td>8.27</td>\n",
       "      <td>96.48</td>\n",
       "      <td>1.10</td>\n",
       "    </tr>\n",
       "    <tr>\n",
       "      <th>2003-12-01 02:00:00</th>\n",
       "      <td>986.98</td>\n",
       "      <td>8.35</td>\n",
       "      <td>96.90</td>\n",
       "      <td>0.50</td>\n",
       "    </tr>\n",
       "    <tr>\n",
       "      <th>2003-12-01 03:00:00</th>\n",
       "      <td>986.56</td>\n",
       "      <td>8.86</td>\n",
       "      <td>97.23</td>\n",
       "      <td>0.10</td>\n",
       "    </tr>\n",
       "    <tr>\n",
       "      <th>2003-12-01 04:00:00</th>\n",
       "      <td>986.25</td>\n",
       "      <td>9.69</td>\n",
       "      <td>95.93</td>\n",
       "      <td>0.10</td>\n",
       "    </tr>\n",
       "    <tr>\n",
       "      <th>...</th>\n",
       "      <td>...</td>\n",
       "      <td>...</td>\n",
       "      <td>...</td>\n",
       "      <td>...</td>\n",
       "    </tr>\n",
       "    <tr>\n",
       "      <th>2024-11-19 11:00:00</th>\n",
       "      <td>979.99</td>\n",
       "      <td>8.57</td>\n",
       "      <td>96.55</td>\n",
       "      <td>2.72</td>\n",
       "    </tr>\n",
       "    <tr>\n",
       "      <th>2024-11-19 12:00:00</th>\n",
       "      <td>980.17</td>\n",
       "      <td>8.42</td>\n",
       "      <td>94.12</td>\n",
       "      <td>0.48</td>\n",
       "    </tr>\n",
       "    <tr>\n",
       "      <th>2024-11-19 13:00:00</th>\n",
       "      <td>981.22</td>\n",
       "      <td>6.59</td>\n",
       "      <td>93.31</td>\n",
       "      <td>1.18</td>\n",
       "    </tr>\n",
       "    <tr>\n",
       "      <th>2024-11-19 14:00:00</th>\n",
       "      <td>982.19</td>\n",
       "      <td>5.11</td>\n",
       "      <td>93.40</td>\n",
       "      <td>0.99</td>\n",
       "    </tr>\n",
       "    <tr>\n",
       "      <th>2024-11-19 15:00:00</th>\n",
       "      <td>982.74</td>\n",
       "      <td>4.72</td>\n",
       "      <td>94.23</td>\n",
       "      <td>0.03</td>\n",
       "    </tr>\n",
       "  </tbody>\n",
       "</table>\n",
       "<p>183717 rows × 4 columns</p>\n",
       "</div>"
      ],
      "text/plain": [
       "                     air_pressure  air_temperature  relative_humidity  \\\n",
       "timestamp                                                               \n",
       "2003-12-01 00:00:00        987.84             8.32              96.37   \n",
       "2003-12-01 01:00:00        987.31             8.27              96.48   \n",
       "2003-12-01 02:00:00        986.98             8.35              96.90   \n",
       "2003-12-01 03:00:00        986.56             8.86              97.23   \n",
       "2003-12-01 04:00:00        986.25             9.69              95.93   \n",
       "...                           ...              ...                ...   \n",
       "2024-11-19 11:00:00        979.99             8.57              96.55   \n",
       "2024-11-19 12:00:00        980.17             8.42              94.12   \n",
       "2024-11-19 13:00:00        981.22             6.59              93.31   \n",
       "2024-11-19 14:00:00        982.19             5.11              93.40   \n",
       "2024-11-19 15:00:00        982.74             4.72              94.23   \n",
       "\n",
       "                     precipitation  \n",
       "timestamp                           \n",
       "2003-12-01 00:00:00           1.20  \n",
       "2003-12-01 01:00:00           1.10  \n",
       "2003-12-01 02:00:00           0.50  \n",
       "2003-12-01 03:00:00           0.10  \n",
       "2003-12-01 04:00:00           0.10  \n",
       "...                            ...  \n",
       "2024-11-19 11:00:00           2.72  \n",
       "2024-11-19 12:00:00           0.48  \n",
       "2024-11-19 13:00:00           1.18  \n",
       "2024-11-19 14:00:00           0.99  \n",
       "2024-11-19 15:00:00           0.03  \n",
       "\n",
       "[183717 rows x 4 columns]"
      ]
     },
     "execution_count": 59,
     "metadata": {},
     "output_type": "execute_result"
    }
   ],
   "source": [
    "parsed_data_df = data_df.drop(columns=[\"FID\", \"the_geom\", \"code\", \"qc_flags\", \"wind_speed\"])  # Remove unnecessary columns (wind speed is removed since most of its values are nan)\n",
    "parsed_data_df[\"timestamp\"] = pd.to_datetime(parsed_data_df[\"timestamp\"])  # Convert timestamps to timedate format\n",
    "parsed_data_df.drop_duplicates(\"timestamp\", inplace=True)\n",
    "parsed_data_df = parsed_data_df.set_index(\"timestamp\")  \n",
    "parsed_data_df = parsed_data_df.sort_index()\n",
    "parsed_data_df"
   ]
  },
  {
   "cell_type": "markdown",
   "id": "402919a1-3150-4753-bf44-f3476c872119",
   "metadata": {},
   "source": [
    "## Missing Values"
   ]
  },
  {
   "cell_type": "code",
   "execution_count": 60,
   "id": "89c549b3-ab3f-4fc0-8b6a-f0fc632a0c48",
   "metadata": {},
   "outputs": [
    {
     "data": {
      "text/plain": [
       "air_pressure         19\n",
       "air_temperature      23\n",
       "relative_humidity    19\n",
       "precipitation        19\n",
       "dtype: int64"
      ]
     },
     "execution_count": 60,
     "metadata": {},
     "output_type": "execute_result"
    }
   ],
   "source": [
    "parsed_data_df.isna().sum()"
   ]
  },
  {
   "cell_type": "code",
   "execution_count": 61,
   "id": "28c5aeb6-368f-444d-83fe-225d142132ed",
   "metadata": {},
   "outputs": [
    {
     "data": {
      "text/plain": [
       "air_pressure         0\n",
       "air_temperature      0\n",
       "relative_humidity    0\n",
       "precipitation        0\n",
       "dtype: int64"
      ]
     },
     "execution_count": 61,
     "metadata": {},
     "output_type": "execute_result"
    }
   ],
   "source": [
    "parsed_data_df.dropna(inplace=True)\n",
    "parsed_data_df.isna().sum()"
   ]
  },
  {
   "cell_type": "markdown",
   "id": "3e0cea57-944e-4645-bd30-efcafae5d650",
   "metadata": {},
   "source": [
    "## Missing Timestamps"
   ]
  },
  {
   "cell_type": "code",
   "execution_count": 63,
   "id": "a3ef632f-39c6-411b-81f3-1a063431705d",
   "metadata": {},
   "outputs": [
    {
     "name": "stdout",
     "output_type": "stream",
     "text": [
      "There are 147 missing timestamps\n"
     ]
    }
   ],
   "source": [
    "start_date = parsed_data_df.index[0]\n",
    "end_date = parsed_data_df.index[-1]\n",
    "full_timestamps_df = pd.DataFrame(pd.date_range(start=start_date, end=end_date, freq=\"1h\"))\n",
    "print(f\"There are {full_timestamps_df.shape[0] - parsed_data_df.shape[0]} missing timestamps\")"
   ]
  },
  {
   "cell_type": "markdown",
   "id": "57caedec-0470-4177-9342-6a4d242fb66d",
   "metadata": {},
   "source": [
    "### Interpolate Missing Timestamps"
   ]
  },
  {
   "cell_type": "code",
   "execution_count": 74,
   "id": "551e16b6-be50-4b6a-a7d3-eaba779fd702",
   "metadata": {},
   "outputs": [
    {
     "data": {
      "text/html": [
       "<div>\n",
       "<style scoped>\n",
       "    .dataframe tbody tr th:only-of-type {\n",
       "        vertical-align: middle;\n",
       "    }\n",
       "\n",
       "    .dataframe tbody tr th {\n",
       "        vertical-align: top;\n",
       "    }\n",
       "\n",
       "    .dataframe thead th {\n",
       "        text-align: right;\n",
       "    }\n",
       "</style>\n",
       "<table border=\"1\" class=\"dataframe\">\n",
       "  <thead>\n",
       "    <tr style=\"text-align: right;\">\n",
       "      <th></th>\n",
       "    </tr>\n",
       "    <tr>\n",
       "      <th>timestamp</th>\n",
       "    </tr>\n",
       "  </thead>\n",
       "  <tbody>\n",
       "    <tr>\n",
       "      <th>2003-12-01 00:00:00</th>\n",
       "    </tr>\n",
       "    <tr>\n",
       "      <th>2003-12-01 01:00:00</th>\n",
       "    </tr>\n",
       "    <tr>\n",
       "      <th>2003-12-01 02:00:00</th>\n",
       "    </tr>\n",
       "    <tr>\n",
       "      <th>2003-12-01 03:00:00</th>\n",
       "    </tr>\n",
       "    <tr>\n",
       "      <th>2003-12-01 04:00:00</th>\n",
       "    </tr>\n",
       "    <tr>\n",
       "      <th>...</th>\n",
       "    </tr>\n",
       "    <tr>\n",
       "      <th>2024-11-19 11:00:00</th>\n",
       "    </tr>\n",
       "    <tr>\n",
       "      <th>2024-11-19 12:00:00</th>\n",
       "    </tr>\n",
       "    <tr>\n",
       "      <th>2024-11-19 13:00:00</th>\n",
       "    </tr>\n",
       "    <tr>\n",
       "      <th>2024-11-19 14:00:00</th>\n",
       "    </tr>\n",
       "    <tr>\n",
       "      <th>2024-11-19 15:00:00</th>\n",
       "    </tr>\n",
       "  </tbody>\n",
       "</table>\n",
       "<p>183832 rows × 0 columns</p>\n",
       "</div>"
      ],
      "text/plain": [
       "Empty DataFrame\n",
       "Columns: []\n",
       "Index: [2003-12-01 00:00:00, 2003-12-01 01:00:00, 2003-12-01 02:00:00, 2003-12-01 03:00:00, 2003-12-01 04:00:00, 2003-12-01 05:00:00, 2003-12-01 06:00:00, 2003-12-01 07:00:00, 2003-12-01 08:00:00, 2003-12-01 09:00:00, 2003-12-01 10:00:00, 2003-12-01 11:00:00, 2003-12-01 12:00:00, 2003-12-01 13:00:00, 2003-12-01 14:00:00, 2003-12-01 15:00:00, 2003-12-01 16:00:00, 2003-12-01 17:00:00, 2003-12-01 18:00:00, 2003-12-01 19:00:00, 2003-12-01 20:00:00, 2003-12-01 21:00:00, 2003-12-01 22:00:00, 2003-12-01 23:00:00, 2003-12-02 00:00:00, 2003-12-02 01:00:00, 2003-12-02 02:00:00, 2003-12-02 03:00:00, 2003-12-02 04:00:00, 2003-12-02 05:00:00, 2003-12-02 06:00:00, 2003-12-02 07:00:00, 2003-12-02 08:00:00, 2003-12-02 09:00:00, 2003-12-02 10:00:00, 2003-12-02 11:00:00, 2003-12-02 12:00:00, 2003-12-02 13:00:00, 2003-12-02 14:00:00, 2003-12-02 15:00:00, 2003-12-02 16:00:00, 2003-12-02 17:00:00, 2003-12-02 18:00:00, 2003-12-02 19:00:00, 2003-12-02 20:00:00, 2003-12-02 21:00:00, 2003-12-02 22:00:00, 2003-12-02 23:00:00, 2003-12-03 00:00:00, 2003-12-03 01:00:00, 2003-12-03 02:00:00, 2003-12-03 03:00:00, 2003-12-03 04:00:00, 2003-12-03 05:00:00, 2003-12-03 06:00:00, 2003-12-03 07:00:00, 2003-12-03 08:00:00, 2003-12-03 09:00:00, 2003-12-03 10:00:00, 2003-12-03 11:00:00, 2003-12-03 12:00:00, 2003-12-03 13:00:00, 2003-12-03 14:00:00, 2003-12-03 15:00:00, 2003-12-03 16:00:00, 2003-12-03 17:00:00, 2003-12-03 18:00:00, 2003-12-03 19:00:00, 2003-12-03 20:00:00, 2003-12-03 21:00:00, 2003-12-03 22:00:00, 2003-12-03 23:00:00, 2003-12-04 00:00:00, 2003-12-04 01:00:00, 2003-12-04 02:00:00, 2003-12-04 03:00:00, 2003-12-04 04:00:00, 2003-12-04 05:00:00, 2003-12-04 06:00:00, 2003-12-04 07:00:00, 2003-12-04 08:00:00, 2003-12-04 09:00:00, 2003-12-04 10:00:00, 2003-12-04 11:00:00, 2003-12-04 12:00:00, 2003-12-04 13:00:00, 2003-12-04 14:00:00, 2003-12-04 15:00:00, 2003-12-04 16:00:00, 2003-12-04 17:00:00, 2003-12-04 18:00:00, 2003-12-04 19:00:00, 2003-12-04 20:00:00, 2003-12-04 21:00:00, 2003-12-04 22:00:00, 2003-12-04 23:00:00, 2003-12-05 00:00:00, 2003-12-05 01:00:00, 2003-12-05 02:00:00, 2003-12-05 03:00:00, ...]\n",
       "\n",
       "[183832 rows x 0 columns]"
      ]
     },
     "execution_count": 74,
     "metadata": {},
     "output_type": "execute_result"
    }
   ],
   "source": [
    "full_timestamps_df.columns=[\"timestamp\"]\n",
    "full_timestamps_df.set_index(\"timestamp\", inplace=True)\n",
    "full_timestamps_df"
   ]
  },
  {
   "cell_type": "code",
   "execution_count": 112,
   "id": "0b305e46-4c7f-4642-b648-312ddfe1a901",
   "metadata": {},
   "outputs": [
    {
     "data": {
      "text/plain": [
       "air_pressure         0\n",
       "air_temperature      0\n",
       "relative_humidity    0\n",
       "precipitation        0\n",
       "dtype: int64"
      ]
     },
     "execution_count": 112,
     "metadata": {},
     "output_type": "execute_result"
    }
   ],
   "source": [
    "parsed_data_df = parsed_data_df.join(full_timestamps_df, how=\"outer\").interpolate()\n",
    "parsed_data_df.isna().sum()"
   ]
  },
  {
   "cell_type": "code",
   "execution_count": 113,
   "id": "a990f6f2-8666-469e-8ad1-a3bd9cfcc276",
   "metadata": {},
   "outputs": [],
   "source": [
    "parsed_data_df.to_csv(\"../data/preprocessed_aws_1hour.csv\")"
   ]
  },
  {
   "cell_type": "code",
   "execution_count": 116,
   "id": "754094ed-2661-4b7e-a19c-961acec90c1d",
   "metadata": {},
   "outputs": [
    {
     "data": {
      "text/html": [
       "<div>\n",
       "<style scoped>\n",
       "    .dataframe tbody tr th:only-of-type {\n",
       "        vertical-align: middle;\n",
       "    }\n",
       "\n",
       "    .dataframe tbody tr th {\n",
       "        vertical-align: top;\n",
       "    }\n",
       "\n",
       "    .dataframe thead th {\n",
       "        text-align: right;\n",
       "    }\n",
       "</style>\n",
       "<table border=\"1\" class=\"dataframe\">\n",
       "  <thead>\n",
       "    <tr style=\"text-align: right;\">\n",
       "      <th></th>\n",
       "      <th>air_pressure</th>\n",
       "      <th>air_temperature</th>\n",
       "      <th>relative_humidity</th>\n",
       "      <th>precipitation</th>\n",
       "    </tr>\n",
       "    <tr>\n",
       "      <th>timestamp</th>\n",
       "      <th></th>\n",
       "      <th></th>\n",
       "      <th></th>\n",
       "      <th></th>\n",
       "    </tr>\n",
       "  </thead>\n",
       "  <tbody>\n",
       "    <tr>\n",
       "      <th>2003-12-01 00:00:00</th>\n",
       "      <td>987.84</td>\n",
       "      <td>8.32</td>\n",
       "      <td>96.37</td>\n",
       "      <td>1.20</td>\n",
       "    </tr>\n",
       "    <tr>\n",
       "      <th>2003-12-01 01:00:00</th>\n",
       "      <td>987.31</td>\n",
       "      <td>8.27</td>\n",
       "      <td>96.48</td>\n",
       "      <td>1.10</td>\n",
       "    </tr>\n",
       "    <tr>\n",
       "      <th>2003-12-01 02:00:00</th>\n",
       "      <td>986.98</td>\n",
       "      <td>8.35</td>\n",
       "      <td>96.90</td>\n",
       "      <td>0.50</td>\n",
       "    </tr>\n",
       "    <tr>\n",
       "      <th>2003-12-01 03:00:00</th>\n",
       "      <td>986.56</td>\n",
       "      <td>8.86</td>\n",
       "      <td>97.23</td>\n",
       "      <td>0.10</td>\n",
       "    </tr>\n",
       "    <tr>\n",
       "      <th>2003-12-01 04:00:00</th>\n",
       "      <td>986.25</td>\n",
       "      <td>9.69</td>\n",
       "      <td>95.93</td>\n",
       "      <td>0.10</td>\n",
       "    </tr>\n",
       "    <tr>\n",
       "      <th>...</th>\n",
       "      <td>...</td>\n",
       "      <td>...</td>\n",
       "      <td>...</td>\n",
       "      <td>...</td>\n",
       "    </tr>\n",
       "    <tr>\n",
       "      <th>2024-11-19 11:00:00</th>\n",
       "      <td>979.99</td>\n",
       "      <td>8.57</td>\n",
       "      <td>96.55</td>\n",
       "      <td>2.72</td>\n",
       "    </tr>\n",
       "    <tr>\n",
       "      <th>2024-11-19 12:00:00</th>\n",
       "      <td>980.17</td>\n",
       "      <td>8.42</td>\n",
       "      <td>94.12</td>\n",
       "      <td>0.48</td>\n",
       "    </tr>\n",
       "    <tr>\n",
       "      <th>2024-11-19 13:00:00</th>\n",
       "      <td>981.22</td>\n",
       "      <td>6.59</td>\n",
       "      <td>93.31</td>\n",
       "      <td>1.18</td>\n",
       "    </tr>\n",
       "    <tr>\n",
       "      <th>2024-11-19 14:00:00</th>\n",
       "      <td>982.19</td>\n",
       "      <td>5.11</td>\n",
       "      <td>93.40</td>\n",
       "      <td>0.99</td>\n",
       "    </tr>\n",
       "    <tr>\n",
       "      <th>2024-11-19 15:00:00</th>\n",
       "      <td>982.74</td>\n",
       "      <td>4.72</td>\n",
       "      <td>94.23</td>\n",
       "      <td>0.03</td>\n",
       "    </tr>\n",
       "  </tbody>\n",
       "</table>\n",
       "<p>183832 rows × 4 columns</p>\n",
       "</div>"
      ],
      "text/plain": [
       "                     air_pressure  air_temperature  relative_humidity  \\\n",
       "timestamp                                                               \n",
       "2003-12-01 00:00:00        987.84             8.32              96.37   \n",
       "2003-12-01 01:00:00        987.31             8.27              96.48   \n",
       "2003-12-01 02:00:00        986.98             8.35              96.90   \n",
       "2003-12-01 03:00:00        986.56             8.86              97.23   \n",
       "2003-12-01 04:00:00        986.25             9.69              95.93   \n",
       "...                           ...              ...                ...   \n",
       "2024-11-19 11:00:00        979.99             8.57              96.55   \n",
       "2024-11-19 12:00:00        980.17             8.42              94.12   \n",
       "2024-11-19 13:00:00        981.22             6.59              93.31   \n",
       "2024-11-19 14:00:00        982.19             5.11              93.40   \n",
       "2024-11-19 15:00:00        982.74             4.72              94.23   \n",
       "\n",
       "                     precipitation  \n",
       "timestamp                           \n",
       "2003-12-01 00:00:00           1.20  \n",
       "2003-12-01 01:00:00           1.10  \n",
       "2003-12-01 02:00:00           0.50  \n",
       "2003-12-01 03:00:00           0.10  \n",
       "2003-12-01 04:00:00           0.10  \n",
       "...                            ...  \n",
       "2024-11-19 11:00:00           2.72  \n",
       "2024-11-19 12:00:00           0.48  \n",
       "2024-11-19 13:00:00           1.18  \n",
       "2024-11-19 14:00:00           0.99  \n",
       "2024-11-19 15:00:00           0.03  \n",
       "\n",
       "[183832 rows x 4 columns]"
      ]
     },
     "execution_count": 116,
     "metadata": {},
     "output_type": "execute_result"
    }
   ],
   "source": [
    "new_df = pd.read_csv(\"../data/preprocessed_aws_1hour.csv\").set_index(\"timestamp\")\n",
    "new_df"
   ]
  }
 ],
 "metadata": {
  "kernelspec": {
   "display_name": "Python 3 (ipykernel)",
   "language": "python",
   "name": "python3"
  },
  "language_info": {
   "codemirror_mode": {
    "name": "ipython",
    "version": 3
   },
   "file_extension": ".py",
   "mimetype": "text/x-python",
   "name": "python",
   "nbconvert_exporter": "python",
   "pygments_lexer": "ipython3",
   "version": "3.12.3"
  }
 },
 "nbformat": 4,
 "nbformat_minor": 5
}
