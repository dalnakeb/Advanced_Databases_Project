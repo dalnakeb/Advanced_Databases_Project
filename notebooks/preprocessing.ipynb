{
 "cells": [
  {
   "cell_type": "markdown",
   "id": "377f3f16-faff-4077-a616-efea01c46bba",
   "metadata": {},
   "source": [
    "## Imports"
   ]
  },
  {
   "cell_type": "code",
   "execution_count": 1,
   "id": "49057300-1d06-4302-978e-62529839ab99",
   "metadata": {},
   "outputs": [],
   "source": [
    "import numpy as np\n",
    "import pandas as pd\n",
    "import posixpath\n",
    "from advanced_databases_project import data, preprocessing, DATA_PATH, OUTPUT_PATH"
   ]
  },
  {
   "cell_type": "markdown",
   "id": "db5310ad-e63f-441d-b4da-527700fadc9e",
   "metadata": {},
   "source": [
    "## Load CSV Data"
   ]
  },
  {
   "cell_type": "code",
   "execution_count": 2,
   "id": "c1da5f35-6dc9-4cb7-a7c8-2c5ab69094a5",
   "metadata": {},
   "outputs": [
    {
     "name": "stdout",
     "output_type": "stream",
     "text": [
      "Loading data from C:\\Users\\derar\\Documents\\Advanced Databases Project\\Code\\data/aws_1hour.csv..\n",
      "Data loaded successfully\n"
     ]
    },
    {
     "data": {
      "text/html": [
       "<div>\n",
       "<style scoped>\n",
       "    .dataframe tbody tr th:only-of-type {\n",
       "        vertical-align: middle;\n",
       "    }\n",
       "\n",
       "    .dataframe tbody tr th {\n",
       "        vertical-align: top;\n",
       "    }\n",
       "\n",
       "    .dataframe thead th {\n",
       "        text-align: right;\n",
       "    }\n",
       "</style>\n",
       "<table border=\"1\" class=\"dataframe\">\n",
       "  <thead>\n",
       "    <tr style=\"text-align: right;\">\n",
       "      <th></th>\n",
       "      <th>air_pressure</th>\n",
       "      <th>air_temperature</th>\n",
       "      <th>relative_humidity</th>\n",
       "      <th>precipitation</th>\n",
       "    </tr>\n",
       "    <tr>\n",
       "      <th>timestamp</th>\n",
       "      <th></th>\n",
       "      <th></th>\n",
       "      <th></th>\n",
       "      <th></th>\n",
       "    </tr>\n",
       "  </thead>\n",
       "  <tbody>\n",
       "    <tr>\n",
       "      <th>2003-12-01 00:00:00</th>\n",
       "      <td>987.84</td>\n",
       "      <td>8.32</td>\n",
       "      <td>96.37</td>\n",
       "      <td>1.20</td>\n",
       "    </tr>\n",
       "    <tr>\n",
       "      <th>2003-12-01 01:00:00</th>\n",
       "      <td>987.31</td>\n",
       "      <td>8.27</td>\n",
       "      <td>96.48</td>\n",
       "      <td>1.10</td>\n",
       "    </tr>\n",
       "    <tr>\n",
       "      <th>2003-12-01 02:00:00</th>\n",
       "      <td>986.98</td>\n",
       "      <td>8.35</td>\n",
       "      <td>96.90</td>\n",
       "      <td>0.50</td>\n",
       "    </tr>\n",
       "    <tr>\n",
       "      <th>2003-12-01 03:00:00</th>\n",
       "      <td>986.56</td>\n",
       "      <td>8.86</td>\n",
       "      <td>97.23</td>\n",
       "      <td>0.10</td>\n",
       "    </tr>\n",
       "    <tr>\n",
       "      <th>2003-12-01 04:00:00</th>\n",
       "      <td>986.25</td>\n",
       "      <td>9.69</td>\n",
       "      <td>95.93</td>\n",
       "      <td>0.10</td>\n",
       "    </tr>\n",
       "    <tr>\n",
       "      <th>...</th>\n",
       "      <td>...</td>\n",
       "      <td>...</td>\n",
       "      <td>...</td>\n",
       "      <td>...</td>\n",
       "    </tr>\n",
       "    <tr>\n",
       "      <th>2024-11-19 11:00:00</th>\n",
       "      <td>979.99</td>\n",
       "      <td>8.57</td>\n",
       "      <td>96.55</td>\n",
       "      <td>2.72</td>\n",
       "    </tr>\n",
       "    <tr>\n",
       "      <th>2024-11-19 12:00:00</th>\n",
       "      <td>980.17</td>\n",
       "      <td>8.42</td>\n",
       "      <td>94.12</td>\n",
       "      <td>0.48</td>\n",
       "    </tr>\n",
       "    <tr>\n",
       "      <th>2024-11-19 13:00:00</th>\n",
       "      <td>981.22</td>\n",
       "      <td>6.59</td>\n",
       "      <td>93.31</td>\n",
       "      <td>1.18</td>\n",
       "    </tr>\n",
       "    <tr>\n",
       "      <th>2024-11-19 14:00:00</th>\n",
       "      <td>982.19</td>\n",
       "      <td>5.11</td>\n",
       "      <td>93.40</td>\n",
       "      <td>0.99</td>\n",
       "    </tr>\n",
       "    <tr>\n",
       "      <th>2024-11-19 15:00:00</th>\n",
       "      <td>982.74</td>\n",
       "      <td>4.72</td>\n",
       "      <td>94.23</td>\n",
       "      <td>0.03</td>\n",
       "    </tr>\n",
       "  </tbody>\n",
       "</table>\n",
       "<p>183717 rows × 4 columns</p>\n",
       "</div>"
      ],
      "text/plain": [
       "                     air_pressure  air_temperature  relative_humidity  \\\n",
       "timestamp                                                               \n",
       "2003-12-01 00:00:00        987.84             8.32              96.37   \n",
       "2003-12-01 01:00:00        987.31             8.27              96.48   \n",
       "2003-12-01 02:00:00        986.98             8.35              96.90   \n",
       "2003-12-01 03:00:00        986.56             8.86              97.23   \n",
       "2003-12-01 04:00:00        986.25             9.69              95.93   \n",
       "...                           ...              ...                ...   \n",
       "2024-11-19 11:00:00        979.99             8.57              96.55   \n",
       "2024-11-19 12:00:00        980.17             8.42              94.12   \n",
       "2024-11-19 13:00:00        981.22             6.59              93.31   \n",
       "2024-11-19 14:00:00        982.19             5.11              93.40   \n",
       "2024-11-19 15:00:00        982.74             4.72              94.23   \n",
       "\n",
       "                     precipitation  \n",
       "timestamp                           \n",
       "2003-12-01 00:00:00           1.20  \n",
       "2003-12-01 01:00:00           1.10  \n",
       "2003-12-01 02:00:00           0.50  \n",
       "2003-12-01 03:00:00           0.10  \n",
       "2003-12-01 04:00:00           0.10  \n",
       "...                            ...  \n",
       "2024-11-19 11:00:00           2.72  \n",
       "2024-11-19 12:00:00           0.48  \n",
       "2024-11-19 13:00:00           1.18  \n",
       "2024-11-19 14:00:00           0.99  \n",
       "2024-11-19 15:00:00           0.03  \n",
       "\n",
       "[183717 rows x 4 columns]"
      ]
     },
     "execution_count": 2,
     "metadata": {},
     "output_type": "execute_result"
    }
   ],
   "source": [
    "filename = \"aws_1hour.csv\"\n",
    "filepath = posixpath.join(DATA_PATH, filename)\n",
    "data_df = data.load_data_csv(filepath)\n",
    "data_df"
   ]
  },
  {
   "cell_type": "markdown",
   "id": "edfbed1d-396b-4816-9153-b27384b56bd7",
   "metadata": {},
   "source": [
    "## Missing Values and Timestamps"
   ]
  },
  {
   "cell_type": "markdown",
   "id": "402919a1-3150-4753-bf44-f3476c872119",
   "metadata": {},
   "source": [
    "### Missing Values"
   ]
  },
  {
   "cell_type": "code",
   "execution_count": 3,
   "id": "89c549b3-ab3f-4fc0-8b6a-f0fc632a0c48",
   "metadata": {},
   "outputs": [
    {
     "data": {
      "text/plain": [
       "air_pressure         19\n",
       "air_temperature      23\n",
       "relative_humidity    19\n",
       "precipitation        19\n",
       "dtype: int64"
      ]
     },
     "execution_count": 3,
     "metadata": {},
     "output_type": "execute_result"
    }
   ],
   "source": [
    "data_df.isna().sum()"
   ]
  },
  {
   "cell_type": "code",
   "execution_count": 4,
   "id": "28c5aeb6-368f-444d-83fe-225d142132ed",
   "metadata": {},
   "outputs": [
    {
     "data": {
      "text/plain": [
       "air_pressure         0\n",
       "air_temperature      0\n",
       "relative_humidity    0\n",
       "precipitation        0\n",
       "dtype: int64"
      ]
     },
     "execution_count": 4,
     "metadata": {},
     "output_type": "execute_result"
    }
   ],
   "source": [
    "data_df = preprocessing.interpolate_missing_values(data_df)\n",
    "data_df.isna().sum()"
   ]
  },
  {
   "cell_type": "markdown",
   "id": "3e0cea57-944e-4645-bd30-efcafae5d650",
   "metadata": {},
   "source": [
    "### Missing Timestamps"
   ]
  },
  {
   "cell_type": "code",
   "execution_count": 5,
   "id": "a3ef632f-39c6-411b-81f3-1a063431705d",
   "metadata": {},
   "outputs": [
    {
     "name": "stdout",
     "output_type": "stream",
     "text": [
      "There are 115 missing timestamps\n"
     ]
    }
   ],
   "source": [
    "start_date = data_df.index[0]\n",
    "end_date = data_df.index[-1]\n",
    "full_timestamps_df = pd.DataFrame(pd.date_range(start=start_date, end=end_date, freq=\"1h\"))\n",
    "print(f\"There are {full_timestamps_df.shape[0] - data_df.shape[0]} missing timestamps\")"
   ]
  },
  {
   "cell_type": "markdown",
   "id": "57caedec-0470-4177-9342-6a4d242fb66d",
   "metadata": {},
   "source": [
    "### Interpolate Missing Timestamps"
   ]
  },
  {
   "cell_type": "code",
   "execution_count": 6,
   "id": "551e16b6-be50-4b6a-a7d3-eaba779fd702",
   "metadata": {},
   "outputs": [],
   "source": [
    "data_df = preprocessing.interpolate_missing_timestamps(data_df, freq=\"1h\")"
   ]
  },
  {
   "cell_type": "code",
   "execution_count": 7,
   "id": "0b305e46-4c7f-4642-b648-312ddfe1a901",
   "metadata": {},
   "outputs": [
    {
     "data": {
      "text/plain": [
       "air_pressure         0\n",
       "air_temperature      0\n",
       "relative_humidity    0\n",
       "precipitation        0\n",
       "dtype: int64"
      ]
     },
     "execution_count": 7,
     "metadata": {},
     "output_type": "execute_result"
    }
   ],
   "source": [
    "data_df.isna().sum()"
   ]
  },
  {
   "cell_type": "markdown",
   "id": "f23f25c3-859f-4bd4-8114-baad9c8ea208",
   "metadata": {},
   "source": [
    "## Save Data"
   ]
  },
  {
   "cell_type": "code",
   "execution_count": 8,
   "id": "8f0acef0-93ff-492d-92ed-1b10f3338019",
   "metadata": {},
   "outputs": [
    {
     "name": "stdout",
     "output_type": "stream",
     "text": [
      "Saving data to C:\\Users\\derar\\Documents\\Advanced Databases Project\\Code\\outputs/preprocessed_aws_1hour.csv..\n",
      "Data has been saved successfully\n"
     ]
    }
   ],
   "source": [
    "filename = \"preprocessed_aws_1hour.csv\"\n",
    "filepath = posixpath.join(OUTPUT_PATH, filename)\n",
    "data.save_data(filepath, data_df)"
   ]
  }
 ],
 "metadata": {
  "kernelspec": {
   "display_name": "Python 3 (ipykernel)",
   "language": "python",
   "name": "python3"
  },
  "language_info": {
   "codemirror_mode": {
    "name": "ipython",
    "version": 3
   },
   "file_extension": ".py",
   "mimetype": "text/x-python",
   "name": "python",
   "nbconvert_exporter": "python",
   "pygments_lexer": "ipython3",
   "version": "3.12.3"
  }
 },
 "nbformat": 4,
 "nbformat_minor": 5
}
